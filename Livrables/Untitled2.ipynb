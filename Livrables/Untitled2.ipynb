{
 "cells": [
  {
   "cell_type": "code",
   "execution_count": 1,
   "id": "4334d915",
   "metadata": {},
   "outputs": [
    {
     "name": "stderr",
     "output_type": "stream",
     "text": [
      "C:\\Users\\brune\\anaconda3\\envs\\CoursHN\\lib\\site-packages\\tqdm\\auto.py:22: TqdmWarning: IProgress not found. Please update jupyter and ipywidgets. See https://ipywidgets.readthedocs.io/en/stable/user_install.html\n",
      "  from .autonotebook import tqdm as notebook_tqdm\n"
     ]
    }
   ],
   "source": [
    "%matplotlib inline\n",
    "\n",
    "import gensim\n",
    "import json\n",
    "import logging\n",
    "import math\n",
    "import os\n",
    "import random\n",
    "import re\n",
    "import spacy\n",
    "import matplotlib.pyplot as plt\n",
    "import numpy as np\n",
    "import pandas as pd\n",
    "import pyLDAvis.gensim_models\n",
    "import warnings\n",
    "\n",
    "from gensim import corpora, models\n",
    "from gensim.utils import simple_preprocess\n",
    "from gensim.models.ldamodel import LdaModel\n",
    "from gensim.models import CoherenceModel\n",
    "from gensim.test.utils import common_texts\n",
    "from gensim.models import Word2Vec\n",
    "from gensim.test.utils import datapath\n",
    "\n",
    "from nltk.corpus import stopwords\n",
    "from nltk import pos_tag, ne_chunk\n",
    "from nltk.tokenize import word_tokenize\n",
    "from nltk.collocations import BigramCollocationFinder\n",
    "from nltk.metrics import BigramAssocMeasures\n",
    "from nltk.collocations import TrigramCollocationFinder\n",
    "from nltk.metrics import TrigramAssocMeasures\n",
    "from nltk.tokenize import RegexpTokenizer\n",
    "\n",
    "from sklearn.feature_extraction.text import CountVectorizer\n",
    "from sklearn.feature_extraction.text import TfidfVectorizer\n",
    "from sklearn.feature_extraction.text import ENGLISH_STOP_WORDS\n",
    "from sklearn.preprocessing import normalize\n",
    "\n",
    "from stop_words import get_stop_words\n",
    "from wordcloud import WordCloud"
   ]
  },
  {
   "cell_type": "code",
   "execution_count": 2,
   "id": "8c4be179",
   "metadata": {},
   "outputs": [],
   "source": [
    "with open(os.path.join('posts_maior_propre.json'), 'r', encoding = 'UTF-8') as fin_M2 :\n",
    "    data = json.load(fin_M2)"
   ]
  },
  {
   "cell_type": "code",
   "execution_count": 3,
   "id": "e94bb494",
   "metadata": {},
   "outputs": [],
   "source": [
    "index = ''\n",
    "a = ''\n",
    "list_clean_content = []\n",
    "\n",
    "for j in range(len(data)) :\n",
    "    index = data[j]\n",
    "    a = index.replace( \"\\n\", \"\")\n",
    "    list_clean_content.append(a)"
   ]
  },
  {
   "cell_type": "code",
   "execution_count": 4,
   "id": "974f171f",
   "metadata": {},
   "outputs": [],
   "source": [
    "sp_stop_words = get_stop_words('spanish')\n",
    "fr_stop_words = get_stop_words('french')\n",
    "en_stop_words = get_stop_words('english')"
   ]
  },
  {
   "cell_type": "code",
   "execution_count": 5,
   "id": "25dc54bf",
   "metadata": {},
   "outputs": [],
   "source": [
    "words = [ 'plus', 'rien', 'tres', 'ca', 'fr', 'com', 'www', 'http',\n",
    "          'etais', 'etait', 'etaient', 'meme', 'non', 'bien', 'oui', 'quoi',\n",
    "          'chez', 'va', 'apres']"
   ]
  },
  {
   "cell_type": "code",
   "execution_count": 6,
   "id": "9279314c",
   "metadata": {},
   "outputs": [],
   "source": [
    "stop_words = sp_stop_words + fr_stop_words + en_stop_words + words "
   ]
  },
  {
   "cell_type": "code",
   "execution_count": 9,
   "id": "efeda702",
   "metadata": {},
   "outputs": [],
   "source": [
    "texte = str(list_clean_content)"
   ]
  },
  {
   "cell_type": "code",
   "execution_count": null,
   "id": "840d4da8",
   "metadata": {},
   "outputs": [],
   "source": [
    "words=[w.lower() for w in word_tokenize(texte)]"
   ]
  },
  {
   "cell_type": "code",
   "execution_count": null,
   "id": "f7527503",
   "metadata": {},
   "outputs": [],
   "source": []
  }
 ],
 "metadata": {
  "kernelspec": {
   "display_name": "Python 3 (ipykernel)",
   "language": "python",
   "name": "python3"
  },
  "language_info": {
   "codemirror_mode": {
    "name": "ipython",
    "version": 3
   },
   "file_extension": ".py",
   "mimetype": "text/x-python",
   "name": "python",
   "nbconvert_exporter": "python",
   "pygments_lexer": "ipython3",
   "version": "3.10.8"
  }
 },
 "nbformat": 4,
 "nbformat_minor": 5
}
