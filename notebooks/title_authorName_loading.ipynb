{
 "cells": [
  {
   "cell_type": "markdown",
   "id": "94fcd648",
   "metadata": {},
   "source": [
    "Chargement des fichiers et récupération de la partie \"title\""
   ]
  },
  {
   "cell_type": "code",
   "execution_count": 1,
   "id": "33306f6f",
   "metadata": {},
   "outputs": [],
   "source": [
    "#importation des packages et modules\n",
    "import os\n",
    "import json\n",
    "from bs4 import BeautifulSoup\n",
    "import pandas as pd\n",
    "import numpy as np \n",
    "\n",
    "#définition d'une fonction d'ouverture de tous les fichiers qui récupère la partie \"title\"\n",
    "\n",
    "def title_loading(chemin_acces):\n",
    "    data = {}\n",
    "    for filename in os.listdir(chemin_acces):\n",
    "        if filename.endswith(\".json\"):\n",
    "            with open(os.path.join(chemin_acces, filename), 'r', encoding=\"utf-8\") as read_file:\n",
    "                lecture = json.load(read_file)\n",
    "                data = lecture[0:]\n",
    "            \n",
    "    Title = []\n",
    "    for key in data[0:]:\n",
    "        key = key[\"title\"]\n",
    "        Title.append(key)\n",
    "    return Title\n",
    "#définition d'une fonction d'ouverture de tous les fichiers qui récupère la partie \"author name\"\n",
    "\n",
    "def author_name(chemin_acces):\n",
    "    data = {}\n",
    "    for filename in os.listdir(chemin_acces):\n",
    "        if filename.endswith(\".json\"):\n",
    "            with open(os.path.join(chemin_acces, filename), 'r', encoding=\"utf-8\") as read_file:\n",
    "                lecture = json.load(read_file)\n",
    "                data = lecture[0:]\n",
    "            \n",
    "    name = []\n",
    "    for key in data[0:]:\n",
    "        key = key[\"author\"][\"displayName\"]\n",
    "        name.append(key)\n",
    "    return name"
   ]
  },
  {
   "cell_type": "code",
   "execution_count": 2,
   "id": "65640e71",
   "metadata": {},
   "outputs": [
    {
     "name": "stdout",
     "output_type": "stream",
     "text": [
      "['87. MÉDICAL', '90. ZOOLOGIQUE', '75. MÉTATHÈSES', '60. ODE', '59. TÉLÉGRAPHIQUE', '58. AUDITIF', '57. VISUEL', '56. TACTILE', '55. GUSTATIF', '54. OLFACTIF', '53. SONNET', '52. PARTIAL', '51. DÉSINVOLTE', '50. MALADROIT', '49. APOSTROPHE', '48. PHILOSOPHIQUE', '47. FANTOMATIQUE', '46. PARÉCHÈSES', '45. APARTÉS', '44. COMÉDIE', '43. INTERROGATOIRE', '42. VULGAIRE', '41. AMPOULÉ', '40. ALORS', '39. EXCLAMATIONS', '38. MOI JE', '37. SYNCOPES', '36. APOCOPES', '35. APHÉRÈSES', '34. POLYPTOTES', '33. ALEXANDRINS', '32. IMPARFAIT', '31. PASSÉ SIMPLE', '30. PRÉSENT', '29. PASSÉ INDÉFINI', '28. IGNORANCE', '27. INSISTANCE', '26. ANALYSE LOGIQUE', '25. ONOMATOPÉES', \"24. PRIÈRE D'INSÉRER\", '23. LETTRE OFFICIELLE', '22. HOMÉOTÉLEUTES', '21. DISTINGUO', '20. ANAGRAMMES', '19. ANIMISME', '18. NÉGATIVITÉS', '17. COMPOSITION DE MOTS', '16. RÉCIT', '15. AUTRE SUBJECTIVITÉ', '14. LE CÔTÉ SUBJECTIF', '13. PRÉCISIONS', '12. HÉSITATIONS', '11. LOGO-RALLYE', \"10. L'ARC-EN-CIEL\", '9. SYNCHISES', '8. PRONOSTICATIONS', '7. RÊVE', '6. SURPRISES', '5. RÉTROGRADE', '4. MÉTAPHORIQUEMENT', '3. LITOTES', '2. EN PARTIE DOUBLE', '1. NOTATIONS']\n",
      "\n",
      "Votre jeux de titre contient : 63 titres\n"
     ]
    }
   ],
   "source": [
    "chemin_acces = \"../data_blogger\" \n",
    "title = title_loading(chemin_acces)\n",
    "print(title)\n",
    "print(\"\\nVotre jeux de titre contient :\", len(title), \"titres\")"
   ]
  },
  {
   "cell_type": "code",
   "execution_count": 3,
   "id": "f0447aa8",
   "metadata": {},
   "outputs": [
    {
     "name": "stdout",
     "output_type": "stream",
     "text": [
      "[\"Clarence L'inspecteur\", \"Clarence L'inspecteur\", \"Clarence L'inspecteur\", \"Clarence L'inspecteur\", \"Clarence L'inspecteur\", \"Clarence L'inspecteur\", \"Clarence L'inspecteur\", \"Clarence L'inspecteur\", \"Clarence L'inspecteur\", \"Clarence L'inspecteur\", \"Clarence L'inspecteur\", \"Clarence L'inspecteur\", \"Clarence L'inspecteur\", \"Clarence L'inspecteur\", \"Clarence L'inspecteur\", \"Clarence L'inspecteur\", \"Clarence L'inspecteur\", \"Clarence L'inspecteur\", \"Clarence L'inspecteur\", \"Clarence L'inspecteur\", \"Clarence L'inspecteur\", \"Clarence L'inspecteur\", \"Clarence L'inspecteur\", \"Clarence L'inspecteur\", \"Clarence L'inspecteur\", \"Clarence L'inspecteur\", \"Clarence L'inspecteur\", \"Clarence L'inspecteur\", \"Clarence L'inspecteur\", \"Clarence L'inspecteur\", \"Clarence L'inspecteur\", \"Clarence L'inspecteur\", \"Clarence L'inspecteur\", \"Clarence L'inspecteur\", \"Clarence L'inspecteur\", \"Clarence L'inspecteur\", \"Clarence L'inspecteur\", \"Clarence L'inspecteur\", \"Clarence L'inspecteur\", \"Clarence L'inspecteur\", \"Clarence L'inspecteur\", \"Clarence L'inspecteur\", \"Clarence L'inspecteur\", \"Clarence L'inspecteur\", \"Clarence L'inspecteur\", \"Clarence L'inspecteur\", \"Clarence L'inspecteur\", \"Clarence L'inspecteur\", \"Clarence L'inspecteur\", \"Clarence L'inspecteur\", \"Clarence L'inspecteur\", \"Clarence L'inspecteur\", \"Clarence L'inspecteur\", \"Clarence L'inspecteur\", \"Clarence L'inspecteur\", \"Clarence L'inspecteur\", \"Clarence L'inspecteur\", \"Clarence L'inspecteur\", \"Clarence L'inspecteur\", \"Clarence L'inspecteur\", \"Clarence L'inspecteur\", \"Clarence L'inspecteur\", \"Clarence L'inspecteur\"]\n"
     ]
    }
   ],
   "source": [
    "import os \n",
    "chemin_acces = \"../data_blogger\"\n",
    "names = author_name(chemin_acces)\n",
    "print(names)\n"
   ]
  }
 ],
 "metadata": {
  "kernelspec": {
   "display_name": "Python 3 (ipykernel)",
   "language": "python",
   "name": "python3"
  },
  "language_info": {
   "codemirror_mode": {
    "name": "ipython",
    "version": 3
   },
   "file_extension": ".py",
   "mimetype": "text/x-python",
   "name": "python",
   "nbconvert_exporter": "python",
   "pygments_lexer": "ipython3",
   "version": "3.10.6"
  }
 },
 "nbformat": 4,
 "nbformat_minor": 5
}
