{
 "cells": [
  {
   "cell_type": "code",
   "execution_count": 2,
   "id": "484d8fd6",
   "metadata": {},
   "outputs": [],
   "source": [
    "import json\n",
    "import time\n",
    "from bs4 import BeautifulSoup\n",
    "import os\n",
    "from tqdm import tqdm"
   ]
  },
  {
   "cell_type": "code",
   "execution_count": 3,
   "id": "ff6d8c1f",
   "metadata": {},
   "outputs": [],
   "source": [
    "data_dir = os.path.join(\"blogger_blogs\")\n",
    "blog_dirs = os.listdir(data_dir)"
   ]
  },
  {
   "cell_type": "code",
   "execution_count": 4,
   "id": "1a468295",
   "metadata": {},
   "outputs": [
    {
     "data": {
      "text/plain": [
       "187"
      ]
     },
     "execution_count": 4,
     "metadata": {},
     "output_type": "execute_result"
    }
   ],
   "source": [
    "len(blog_dirs)"
   ]
  },
  {
   "cell_type": "code",
   "execution_count": 5,
   "id": "b398361e",
   "metadata": {},
   "outputs": [],
   "source": [
    "liste_posts = []\n",
    "data_M = []\n",
    "\n",
    "for i in range(len(blog_dirs)) :\n",
    "    blog_id = blog_dirs[i]\n",
    "    with open(os.path.join( data_dir, blog_id, \"blog_posts_%s.json\" % blog_id), 'r') as f :\n",
    "        data = json.load(f)\n",
    "        data_M = data_M + data\n",
    "        liste_posts.append(data)"
   ]
  },
  {
   "cell_type": "code",
   "execution_count": 6,
   "id": "6bf569d9",
   "metadata": {},
   "outputs": [
    {
     "data": {
      "text/plain": [
       "187"
      ]
     },
     "execution_count": 6,
     "metadata": {},
     "output_type": "execute_result"
    }
   ],
   "source": [
    "len(liste_posts)"
   ]
  },
  {
   "cell_type": "code",
   "execution_count": 7,
   "id": "265efdfb",
   "metadata": {},
   "outputs": [
    {
     "name": "stdout",
     "output_type": "stream",
     "text": [
      "<class 'list'>\n",
      "63\n"
     ]
    }
   ],
   "source": [
    "print(type(data))\n",
    "print(len(data))\n",
    "#pourquoi ??"
   ]
  },
  {
   "cell_type": "code",
   "execution_count": 8,
   "id": "c0b8ef85",
   "metadata": {},
   "outputs": [
    {
     "name": "stdout",
     "output_type": "stream",
     "text": [
      "<class 'list'>\n",
      "110895\n"
     ]
    }
   ],
   "source": [
    "print(type(data_M))\n",
    "print(len(data_M))"
   ]
  },
  {
   "cell_type": "code",
   "execution_count": 9,
   "id": "63f002ee",
   "metadata": {},
   "outputs": [
    {
     "data": {
      "text/plain": [
       "list"
      ]
     },
     "execution_count": 9,
     "metadata": {},
     "output_type": "execute_result"
    }
   ],
   "source": [
    "type(liste_posts)"
   ]
  },
  {
   "cell_type": "code",
   "execution_count": 9,
   "id": "2ac513e2",
   "metadata": {},
   "outputs": [],
   "source": [
    "with open(os.path.join('posts.json'), 'w', encoding = 'UTF-8') as fin :\n",
    "    json.dump( liste_posts, fin)"
   ]
  },
  {
   "cell_type": "code",
   "execution_count": 10,
   "id": "57ed45e9",
   "metadata": {},
   "outputs": [],
   "source": [
    "with open(os.path.join('posts_maior.json'), 'w', encoding = 'UTF-8') as fin_M :\n",
    "    json.dump( data_M, fin_M)"
   ]
  },
  {
   "cell_type": "code",
   "execution_count": 10,
   "id": "3d3244c7",
   "metadata": {},
   "outputs": [
    {
     "data": {
      "text/plain": [
       "'<p><span style=\"font-family: courier; font-size: large;\"><br /></span></p><p><span style=\"font-family: courier; font-size: large;\"><br /></span></p><p><span style=\"font-family: courier; font-size: large;\">le premier jour du premier mois de l\\'année ressemble étrangement au dernier jour du dernier mois de l\\'année&nbsp;</span></p><p><span style=\"font-family: courier; font-size: large;\">plus rien ne distingue l\\'aube du crépuscule&nbsp;</span></p><p><span style=\"font-family: courier; font-size: large;\">et toi qui flottes à mes côtés lorsque que tu me regardes ainsi j\\'ai l\\'impression d\\'être sauvé&nbsp;</span></p><p><span style=\"font-family: courier; font-size: large;\">il neige des noms et jamais je n\\'en retiens un seul</span></p><p><span style=\"font-family: courier; font-size: large;\"><br /></span></p><p><span style=\"font-family: courier; font-size: large;\">sous ce ciel là&nbsp;</span></p><p><span style=\"font-family: courier; font-size: large;\">la terre qui rêve et qui tourne semble soudain souterraine&nbsp;</span></p><p><span style=\"font-family: courier; font-size: large;\">bornes de bitume dans les odeurs saines de l\\'hiver&nbsp;</span></p><p><span style=\"font-family: courier; font-size: large;\">j\\'enchaîne des dizaines de patelins&nbsp;</span></p><p><span style=\"font-family: courier; font-size: large;\">l\\'état a un employeur qui&nbsp; créé des poisons avant que de vendre ses antidotes et toi te l\\'ai-je déjà dit à peine me touches-tu que mes cicatrices disparaissent&nbsp;</span></p><p><span style=\"font-family: courier; font-size: large;\">il neige des noms et jamais je n\\'en retiens un seul&nbsp;</span></p><p><span style=\"font-family: courier; font-size: large;\"><br /></span></p><p><span style=\"font-family: courier; font-size: large;\">splendeur sérénité sandwich thon crudités sainte trinité qui me rend immortel sur l\\'aire de repos&nbsp;</span></p><p><span style=\"font-family: courier; font-size: large;\">tel le poète maudit de base</span></p><p><span style=\"font-family: courier; font-size: large;\">je porte un bonnet post apo et comme n\\'importe quel ado déséquilibré je me suis offert un couteau de poche</span></p><p><span style=\"font-family: courier; font-size: large;\">et toi que je cherche depuis tant de temps je m\\'aperçois qu\\'en fait tu as toujours été là&nbsp;</span></p><p><span style=\"font-family: courier; font-size: large;\">il neige des noms et jamais je n\\'en retiens un seul&nbsp;</span></p>'"
      ]
     },
     "execution_count": 10,
     "metadata": {},
     "output_type": "execute_result"
    }
   ],
   "source": [
    "data_M[0]['content']"
   ]
  },
  {
   "cell_type": "code",
   "execution_count": 11,
   "id": "8852b171",
   "metadata": {},
   "outputs": [],
   "source": [
    "blog_dirs_minor = blog_dirs[0:5]\n",
    "len(blog_dirs_minor)\n",
    "\n",
    "liste_posts_minor = []\n",
    "data_m = []\n",
    "\n",
    "for i in range(len(blog_dirs_minor)) :\n",
    "    blog_id = blog_dirs_minor[i]\n",
    "    with open(os.path.join( data_dir, blog_id, \"blog_posts_%s.json\" % blog_id), 'r') as f2 :\n",
    "        blog_posts_minor = json.load(f2)\n",
    "        data_m = data_m + blog_posts_minor\n",
    "        liste_posts_minor.append(blog_posts_minor)\n",
    "\n",
    "with open(os.path.join('posts_minor.json'), 'w', encoding = 'UTF-8') as fin2 :\n",
    "    json.dump( liste_posts_minor, fin2)"
   ]
  },
  {
   "cell_type": "code",
   "execution_count": 12,
   "id": "b8acd8c6",
   "metadata": {},
   "outputs": [
    {
     "data": {
      "text/plain": [
       "'<p><span style=\"font-family: courier; font-size: large;\"><br /></span></p><p><span style=\"font-family: courier; font-size: large;\"><br /></span></p><p><span style=\"font-family: courier; font-size: large;\">le premier jour du premier mois de l\\'année ressemble étrangement au dernier jour du dernier mois de l\\'année&nbsp;</span></p><p><span style=\"font-family: courier; font-size: large;\">plus rien ne distingue l\\'aube du crépuscule&nbsp;</span></p><p><span style=\"font-family: courier; font-size: large;\">et toi qui flottes à mes côtés lorsque que tu me regardes ainsi j\\'ai l\\'impression d\\'être sauvé&nbsp;</span></p><p><span style=\"font-family: courier; font-size: large;\">il neige des noms et jamais je n\\'en retiens un seul</span></p><p><span style=\"font-family: courier; font-size: large;\"><br /></span></p><p><span style=\"font-family: courier; font-size: large;\">sous ce ciel là&nbsp;</span></p><p><span style=\"font-family: courier; font-size: large;\">la terre qui rêve et qui tourne semble soudain souterraine&nbsp;</span></p><p><span style=\"font-family: courier; font-size: large;\">bornes de bitume dans les odeurs saines de l\\'hiver&nbsp;</span></p><p><span style=\"font-family: courier; font-size: large;\">j\\'enchaîne des dizaines de patelins&nbsp;</span></p><p><span style=\"font-family: courier; font-size: large;\">l\\'état a un employeur qui&nbsp; créé des poisons avant que de vendre ses antidotes et toi te l\\'ai-je déjà dit à peine me touches-tu que mes cicatrices disparaissent&nbsp;</span></p><p><span style=\"font-family: courier; font-size: large;\">il neige des noms et jamais je n\\'en retiens un seul&nbsp;</span></p><p><span style=\"font-family: courier; font-size: large;\"><br /></span></p><p><span style=\"font-family: courier; font-size: large;\">splendeur sérénité sandwich thon crudités sainte trinité qui me rend immortel sur l\\'aire de repos&nbsp;</span></p><p><span style=\"font-family: courier; font-size: large;\">tel le poète maudit de base</span></p><p><span style=\"font-family: courier; font-size: large;\">je porte un bonnet post apo et comme n\\'importe quel ado déséquilibré je me suis offert un couteau de poche</span></p><p><span style=\"font-family: courier; font-size: large;\">et toi que je cherche depuis tant de temps je m\\'aperçois qu\\'en fait tu as toujours été là&nbsp;</span></p><p><span style=\"font-family: courier; font-size: large;\">il neige des noms et jamais je n\\'en retiens un seul&nbsp;</span></p>'"
      ]
     },
     "execution_count": 12,
     "metadata": {},
     "output_type": "execute_result"
    }
   ],
   "source": [
    "data_m[0]['content']"
   ]
  },
  {
   "cell_type": "code",
   "execution_count": 13,
   "id": "c14f655b",
   "metadata": {},
   "outputs": [
    {
     "data": {
      "text/plain": [
       "1378"
      ]
     },
     "execution_count": 13,
     "metadata": {},
     "output_type": "execute_result"
    }
   ],
   "source": [
    "len(data_m)"
   ]
  },
  {
   "cell_type": "code",
   "execution_count": 14,
   "id": "96831c02",
   "metadata": {},
   "outputs": [
    {
     "data": {
      "text/plain": [
       "110895"
      ]
     },
     "execution_count": 14,
     "metadata": {},
     "output_type": "execute_result"
    }
   ],
   "source": [
    "len(data_M)"
   ]
  },
  {
   "cell_type": "code",
   "execution_count": 16,
   "id": "20124e40",
   "metadata": {},
   "outputs": [
    {
     "name": "stderr",
     "output_type": "stream",
     "text": [
      "C:\\Users\\filip\\anaconda3\\lib\\site-packages\\bs4\\__init__.py:435: MarkupResemblesLocatorWarning: The input looks more like a filename than markup. You may want to open this file and pass the filehandle into Beautiful Soup.\n",
      "  warnings.warn(\n",
      "C:\\Users\\filip\\anaconda3\\lib\\site-packages\\bs4\\__init__.py:404: MarkupResemblesLocatorWarning: The input looks more like a URL than markup. You may want to use an HTTP client like requests to get the document behind the URL, and feed that document to Beautiful Soup.\n",
      "  warnings.warn(\n"
     ]
    }
   ],
   "source": [
    "z = ''\n",
    "list_clean_content = []\n",
    "\n",
    "for j in range(len(data_M)) :\n",
    "    index = data_M[j]['content']\n",
    "    soup = BeautifulSoup(index.replace(\"<br />\", \"\\n\"))\n",
    "    z = soup.get_text().replace(\"\\xa0\", \" \")\n",
    "    list_clean_content.append(z)"
   ]
  },
  {
   "cell_type": "code",
   "execution_count": 17,
   "id": "0a56cce7",
   "metadata": {},
   "outputs": [
    {
     "data": {
      "text/plain": [
       "110895"
      ]
     },
     "execution_count": 17,
     "metadata": {},
     "output_type": "execute_result"
    }
   ],
   "source": [
    "len(list_clean_content)"
   ]
  },
  {
   "cell_type": "code",
   "execution_count": 18,
   "id": "2cb8dc78",
   "metadata": {},
   "outputs": [
    {
     "data": {
      "text/plain": [
       "\"\\n\\nle premier jour du premier mois de l'année ressemble étrangement au dernier jour du dernier mois de l'année plus rien ne distingue l'aube du crépuscule et toi qui flottes à mes côtés lorsque que tu me regardes ainsi j'ai l'impression d'être sauvé il neige des noms et jamais je n'en retiens un seul\\nsous ce ciel là la terre qui rêve et qui tourne semble soudain souterraine bornes de bitume dans les odeurs saines de l'hiver j'enchaîne des dizaines de patelins l'état a un employeur qui  créé des poisons avant que de vendre ses antidotes et toi te l'ai-je déjà dit à peine me touches-tu que mes cicatrices disparaissent il neige des noms et jamais je n'en retiens un seul \\nsplendeur sérénité sandwich thon crudités sainte trinité qui me rend immortel sur l'aire de repos tel le poète maudit de baseje porte un bonnet post apo et comme n'importe quel ado déséquilibré je me suis offert un couteau de pocheet toi que je cherche depuis tant de temps je m'aperçois qu'en fait tu as toujours été là il neige des noms et jamais je n'en retiens un seul \""
      ]
     },
     "execution_count": 18,
     "metadata": {},
     "output_type": "execute_result"
    }
   ],
   "source": [
    "list_clean_content[0]"
   ]
  },
  {
   "cell_type": "code",
   "execution_count": 19,
   "id": "fd9efcd8",
   "metadata": {},
   "outputs": [
    {
     "data": {
      "text/plain": [
       "\"\\n\\n\\n\\nMarchant dans Londres, ville qu’elle connaît bien et qu’elle sillonne depuis de nombreuses années, Sylvie Doizelet a pris, pendant ses récents séjours, des séries de photos qui disent les dangers, interdictions, dérapages, risques de chute, de contamination et de mort qui guettent l’imprudent qui oublierait de prendre au sérieux tous ces rappels.\\n\\nIls fleurissent sur de multiples panneaux. On les trouve partout : des terrains vagues au cœur de la ville en passant par les trottoirs, les grilles, les cages d’escalier, les façades de verre, les quais, les esplanades, les souterrains… Façon pour les uns de se prémunir et pour les autres de trembloter en se méfiant de ces incessants périls susceptibles de transformer les éventuelles (et de plus en plus problématiques) flâneries en guet-apens.\\n\\nCes dangers inhérents à la capitale londonienne, Jean-Claude Pirotte a choisi de les contourner sans s’en laisser conter. Ces pancartes vont, au contraire, l’inciter à se promener en convoquant, dans les courtes fables, légendes, vignettes qu’elles lui inspirent, des êtres (anonymes ou célèbres) dont les livres ou parcours l’accompagnent et qui, eux aussi, ont arpenté (ou arpentent encore) les rues de Londres. Il y puise sagesse et ironie. Pense aux enfants qui ne savent pas lire. Aux aveugles qui seront piégés. Aux brumes de l’ivresse. Aux ombres qui se bousculent sur les pontons. Et à tous ceux, la plupart, qui, malgré tout, s’en sortent.\\n\\n« Il reste, accroché à la pointe d’une hallebarde, un fond de pantalon qui flotte au vent, dans le courant d’air éternel de l’agitation urbaine. Quant au propriétaire du pantalon, c’est un garçonnet qui a disparu la veille dans un roman de Dickens. »\\n\\nPirotte enchaîne poèmes, récits brefs, réflexions et anecdotes. Il glisse son ombre entre brouillard et lampadaires, s’en remet au hasard – qui le lui rend bien –, évite les parquets cirés des banques de la City et donne à lire des fragments d’existence capables de survivre à bien des interdictions.\\n\\nParfois, Henri Thomas, l’auteur de La nuit de Londres, apparaît à la faveur d’un porche éclairé. Armand Robin, qu’il rencontra là-bas, marche à proximité. Mac Orlan vaque également dans les parages. Et Ted Hughes (que traduit Sylvie Doizelet). Et Samuel Pepys. Et Sylvia Plath. Pirotte les salue tous, à tour de rôle, sans s’attarder mais en leur rappelant combien leur invisible présence en bord de Tamise, lui apporte, certains soirs, douceur et réconfort.\\n\\nLes périls de Londres est le deuxième livre que Sylvie Doizelet et Jean-Claude Pirotte réalisent ensemble. Dans le premier, Chemin de croix (La Table ronde, 2004), c’est elle qui écrivait tandis que lui s’attelait déjà à la légende, mais d’une autre manière, en dessinant des encres aquarellées en regard des quatorze stations évoquées. Ici, les rôles s’inversent à peine. Et le duo, discret, mobile et accordé, est tout aussi épatant.\\n\\nSylvie Doizelet et Jean-Claude Pirotte : Les Périls de Londres, éd. Le Temps qu'il fait.\\n\""
      ]
     },
     "execution_count": 19,
     "metadata": {},
     "output_type": "execute_result"
    }
   ],
   "source": [
    "list_clean_content[1377]"
   ]
  },
  {
   "cell_type": "code",
   "execution_count": 21,
   "id": "af09d144",
   "metadata": {},
   "outputs": [],
   "source": [
    "with open(os.path.join('posts_maior_propre.json'), 'w', encoding = 'UTF-8') as fin_M2 :\n",
    "    json.dump( list_clean_content, fin_M2)"
   ]
  }
 ],
 "metadata": {
  "kernelspec": {
   "display_name": "Python 3 (ipykernel)",
   "language": "python",
   "name": "python3"
  },
  "language_info": {
   "codemirror_mode": {
    "name": "ipython",
    "version": 3
   },
   "file_extension": ".py",
   "mimetype": "text/x-python",
   "name": "python",
   "nbconvert_exporter": "python",
   "pygments_lexer": "ipython3",
   "version": "3.9.12"
  }
 },
 "nbformat": 4,
 "nbformat_minor": 5
}
