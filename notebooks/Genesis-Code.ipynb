{
 "cells": [
  {
   "cell_type": "code",
   "execution_count": 1,
   "id": "484d8fd6",
   "metadata": {},
   "outputs": [],
   "source": [
    "import json\n",
    "import time\n",
    "from bs4 import BeautifulSoup\n",
    "import os\n",
    "from tqdm import tqdm"
   ]
  },
  {
   "cell_type": "code",
   "execution_count": 2,
   "id": "ff6d8c1f",
   "metadata": {},
   "outputs": [],
   "source": [
    "data_dir = os.path.join(\"blogger_blogs\")\n",
    "blog_dirs = os.listdir(data_dir)"
   ]
  },
  {
   "cell_type": "code",
   "execution_count": 3,
   "id": "1a468295",
   "metadata": {},
   "outputs": [
    {
     "data": {
      "text/plain": [
       "187"
      ]
     },
     "execution_count": 3,
     "metadata": {},
     "output_type": "execute_result"
    }
   ],
   "source": [
    "len(blog_dirs)"
   ]
  },
  {
   "cell_type": "code",
   "execution_count": 4,
   "id": "3a02d0d2",
   "metadata": {},
   "outputs": [],
   "source": [
    "# def genesis( data_dir_in, blog_id_in) :\n",
    "#     with open(os.path.join( data_dir_in, blog_id_in, \"blog_posts_%s.json\" % blog_id_in), 'r') as f :\n",
    "#         blog_posts = json.load(f)\n",
    "#     return blog_posts\n",
    "\n",
    "# liste_posts = []\n",
    "    \n",
    "# for i in range(0, len(blog_dirs)+1) :\n",
    "#     blog_id = blog_dirs[i]\n",
    "#     j = genesis( data_dir, blog_dirs[i])\n",
    "#     liste_posts.append(j)\n",
    "    \n",
    "# len(liste_posts)"
   ]
  },
  {
   "cell_type": "code",
   "execution_count": 5,
   "id": "b398361e",
   "metadata": {},
   "outputs": [],
   "source": [
    "liste_posts = []\n",
    "\n",
    "for i in range(len(blog_dirs)) :\n",
    "    blog_id = blog_dirs[i]\n",
    "    with open(os.path.join( data_dir, blog_id, \"blog_posts_%s.json\" % blog_id), 'r') as f :\n",
    "        blog_posts = json.load(f)\n",
    "        liste_posts.append(blog_posts)"
   ]
  },
  {
   "cell_type": "code",
   "execution_count": 6,
   "id": "8fe98074",
   "metadata": {},
   "outputs": [
    {
     "data": {
      "text/plain": [
       "187"
      ]
     },
     "execution_count": 6,
     "metadata": {},
     "output_type": "execute_result"
    }
   ],
   "source": [
    "len(liste_posts)"
   ]
  },
  {
   "cell_type": "code",
   "execution_count": 8,
   "id": "2ac513e2",
   "metadata": {},
   "outputs": [],
   "source": [
    "with open('posts.json', 'w') as file_in :\n",
    "    json.dump( liste_posts, file_in)"
   ]
  },
  {
   "cell_type": "code",
   "execution_count": null,
   "id": "2756e3ee",
   "metadata": {},
   "outputs": [],
   "source": []
  }
 ],
 "metadata": {
  "kernelspec": {
   "display_name": "Python 3 (ipykernel)",
   "language": "python",
   "name": "python3"
  },
  "language_info": {
   "codemirror_mode": {
    "name": "ipython",
    "version": 3
   },
   "file_extension": ".py",
   "mimetype": "text/x-python",
   "name": "python",
   "nbconvert_exporter": "python",
   "pygments_lexer": "ipython3",
   "version": "3.9.12"
  }
 },
 "nbformat": 4,
 "nbformat_minor": 5
}
