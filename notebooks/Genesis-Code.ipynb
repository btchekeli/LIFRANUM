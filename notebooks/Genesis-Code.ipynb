{
 "cells": [
  {
   "cell_type": "code",
   "execution_count": 1,
   "id": "484d8fd6",
   "metadata": {},
   "outputs": [],
   "source": [
    "import json\n",
    "import time\n",
    "from bs4 import BeautifulSoup\n",
    "import os\n",
    "from tqdm import tqdm"
   ]
  },
  {
   "cell_type": "code",
   "execution_count": 2,
   "id": "ff6d8c1f",
   "metadata": {},
   "outputs": [],
   "source": [
    "data_dir = os.path.join(\"../blogger_blogs\")\n",
    "blog_dirs = os.listdir(data_dir)"
   ]
  },
  {
   "cell_type": "code",
   "execution_count": 3,
   "id": "b398361e",
   "metadata": {},
   "outputs": [],
   "source": [
    "liste_posts = []\n",
    "data_M = []\n",
    "\n",
    "for i in range(len(blog_dirs)) :\n",
    "    blog_id = blog_dirs[i]\n",
    "    with open(os.path.join( data_dir, blog_id, \"blog_posts_%s.json\" % blog_id), 'r') as f :\n",
    "        data = json.load(f)\n",
    "        data_M = data_M + data\n",
    "        liste_posts.append(data)"
   ]
  },
  {
   "cell_type": "code",
   "execution_count": 4,
   "id": "6bf569d9",
   "metadata": {},
   "outputs": [
    {
     "data": {
      "text/plain": [
       "187"
      ]
     },
     "execution_count": 4,
     "metadata": {},
     "output_type": "execute_result"
    }
   ],
   "source": [
    "len(liste_posts)"
   ]
  },
  {
   "cell_type": "code",
   "execution_count": 5,
   "id": "265efdfb",
   "metadata": {},
   "outputs": [
    {
     "name": "stdout",
     "output_type": "stream",
     "text": [
      "<class 'list'>\n",
      "63\n"
     ]
    }
   ],
   "source": [
    "print(type(data))\n",
    "print(len(data))\n",
    "#pourquoi ??"
   ]
  },
  {
   "cell_type": "code",
   "execution_count": 6,
   "id": "c0b8ef85",
   "metadata": {},
   "outputs": [
    {
     "name": "stdout",
     "output_type": "stream",
     "text": [
      "<class 'list'>\n",
      "110895\n"
     ]
    }
   ],
   "source": [
    "print(type(data_M))\n",
    "print(len(data_M))"
   ]
  },
  {
   "cell_type": "code",
   "execution_count": 7,
   "id": "63f002ee",
   "metadata": {},
   "outputs": [
    {
     "data": {
      "text/plain": [
       "list"
      ]
     },
     "execution_count": 7,
     "metadata": {},
     "output_type": "execute_result"
    }
   ],
   "source": [
    "type(liste_posts)"
   ]
  },
  {
   "cell_type": "code",
   "execution_count": 8,
   "id": "2ac513e2",
   "metadata": {},
   "outputs": [],
   "source": [
    "with open(os.path.join('posts.json'), 'w', encoding = 'UTF-8') as fin :\n",
    "    json.dump( liste_posts, fin)"
   ]
  },
  {
   "cell_type": "code",
   "execution_count": 9,
   "id": "57ed45e9",
   "metadata": {},
   "outputs": [],
   "source": [
    "with open(os.path.join('posts_maior.json'), 'w', encoding = 'UTF-8') as fin_M :\n",
    "    json.dump( data_M, fin_M)"
   ]
  },
  {
   "cell_type": "code",
   "execution_count": 10,
   "id": "3d3244c7",
   "metadata": {},
   "outputs": [
    {
     "name": "stdout",
     "output_type": "stream",
     "text": [
      "Auteur :  Heptanes Fraxion \n",
      " <p><span style=\"font-family: courier; font-size: large;\"><br /></span></p><p><span style=\"font-family: courier; font-size: large;\"><br /></span></p><p><span style=\"font-family: courier; font-size: large;\">le premier jour du premier mois de l'année ressemble étrangement au dernier jour du dernier mois de l'année&nbsp;</span></p><p><span style=\"font-family: courier; font-size: large;\">plus rien ne distingue l'aube du crépuscule&nbsp;</span></p><p><span style=\"font-family: courier; font-size: large;\">et toi qui flottes à mes côtés lorsque que tu me regardes ainsi j'ai l'impression d'être sauvé&nbsp;</span></p><p><span style=\"font-family: courier; font-size: large;\">il neige des noms et jamais je n'en retiens un seul</span></p><p><span style=\"font-family: courier; font-size: large;\"><br /></span></p><p><span style=\"font-family: courier; font-size: large;\">sous ce ciel là&nbsp;</span></p><p><span style=\"font-family: courier; font-size: large;\">la terre qui rêve et qui tourne semble soudain souterraine&nbsp;</span></p><p><span style=\"font-family: courier; font-size: large;\">bornes de bitume dans les odeurs saines de l'hiver&nbsp;</span></p><p><span style=\"font-family: courier; font-size: large;\">j'enchaîne des dizaines de patelins&nbsp;</span></p><p><span style=\"font-family: courier; font-size: large;\">l'état a un employeur qui&nbsp; créé des poisons avant que de vendre ses antidotes et toi te l'ai-je déjà dit à peine me touches-tu que mes cicatrices disparaissent&nbsp;</span></p><p><span style=\"font-family: courier; font-size: large;\">il neige des noms et jamais je n'en retiens un seul&nbsp;</span></p><p><span style=\"font-family: courier; font-size: large;\"><br /></span></p><p><span style=\"font-family: courier; font-size: large;\">splendeur sérénité sandwich thon crudités sainte trinité qui me rend immortel sur l'aire de repos&nbsp;</span></p><p><span style=\"font-family: courier; font-size: large;\">tel le poète maudit de base</span></p><p><span style=\"font-family: courier; font-size: large;\">je porte un bonnet post apo et comme n'importe quel ado déséquilibré je me suis offert un couteau de poche</span></p><p><span style=\"font-family: courier; font-size: large;\">et toi que je cherche depuis tant de temps je m'aperçois qu'en fait tu as toujours été là&nbsp;</span></p><p><span style=\"font-family: courier; font-size: large;\">il neige des noms et jamais je n'en retiens un seul&nbsp;</span></p>\n"
     ]
    }
   ],
   "source": [
    "print(\"Auteur : \" , data_M[0]['author']['displayName'], \"\\n\", data_M[0]['content'])"
   ]
  },
  {
   "cell_type": "code",
   "execution_count": 11,
   "id": "8852b171",
   "metadata": {},
   "outputs": [],
   "source": [
    "blog_dirs_minor = blog_dirs[0:5]\n",
    "len(blog_dirs_minor)\n",
    "\n",
    "liste_posts_minor = []\n",
    "data_m = []\n",
    "\n",
    "for i in range(len(blog_dirs_minor)) :\n",
    "    blog_id = blog_dirs_minor[i]\n",
    "    with open(os.path.join( data_dir, blog_id, \"blog_posts_%s.json\" % blog_id), 'r') as f2 :\n",
    "        blog_posts_minor = json.load(f2)\n",
    "        data_m = data_m + blog_posts_minor\n",
    "        liste_posts_minor.append(blog_posts_minor)\n",
    "\n",
    "with open(os.path.join('posts_minor.json'), 'w', encoding = 'UTF-8') as fin2 :\n",
    "    json.dump( liste_posts_minor, fin2)"
   ]
  },
  {
   "cell_type": "code",
   "execution_count": 12,
   "id": "b8acd8c6",
   "metadata": {},
   "outputs": [
    {
     "data": {
      "text/plain": [
       "'<p><span style=\"font-family: courier; font-size: large;\"><br /></span></p><p><span style=\"font-family: courier; font-size: large;\"><br /></span></p><p><span style=\"font-family: courier; font-size: large;\">le premier jour du premier mois de l\\'année ressemble étrangement au dernier jour du dernier mois de l\\'année&nbsp;</span></p><p><span style=\"font-family: courier; font-size: large;\">plus rien ne distingue l\\'aube du crépuscule&nbsp;</span></p><p><span style=\"font-family: courier; font-size: large;\">et toi qui flottes à mes côtés lorsque que tu me regardes ainsi j\\'ai l\\'impression d\\'être sauvé&nbsp;</span></p><p><span style=\"font-family: courier; font-size: large;\">il neige des noms et jamais je n\\'en retiens un seul</span></p><p><span style=\"font-family: courier; font-size: large;\"><br /></span></p><p><span style=\"font-family: courier; font-size: large;\">sous ce ciel là&nbsp;</span></p><p><span style=\"font-family: courier; font-size: large;\">la terre qui rêve et qui tourne semble soudain souterraine&nbsp;</span></p><p><span style=\"font-family: courier; font-size: large;\">bornes de bitume dans les odeurs saines de l\\'hiver&nbsp;</span></p><p><span style=\"font-family: courier; font-size: large;\">j\\'enchaîne des dizaines de patelins&nbsp;</span></p><p><span style=\"font-family: courier; font-size: large;\">l\\'état a un employeur qui&nbsp; créé des poisons avant que de vendre ses antidotes et toi te l\\'ai-je déjà dit à peine me touches-tu que mes cicatrices disparaissent&nbsp;</span></p><p><span style=\"font-family: courier; font-size: large;\">il neige des noms et jamais je n\\'en retiens un seul&nbsp;</span></p><p><span style=\"font-family: courier; font-size: large;\"><br /></span></p><p><span style=\"font-family: courier; font-size: large;\">splendeur sérénité sandwich thon crudités sainte trinité qui me rend immortel sur l\\'aire de repos&nbsp;</span></p><p><span style=\"font-family: courier; font-size: large;\">tel le poète maudit de base</span></p><p><span style=\"font-family: courier; font-size: large;\">je porte un bonnet post apo et comme n\\'importe quel ado déséquilibré je me suis offert un couteau de poche</span></p><p><span style=\"font-family: courier; font-size: large;\">et toi que je cherche depuis tant de temps je m\\'aperçois qu\\'en fait tu as toujours été là&nbsp;</span></p><p><span style=\"font-family: courier; font-size: large;\">il neige des noms et jamais je n\\'en retiens un seul&nbsp;</span></p>'"
      ]
     },
     "execution_count": 12,
     "metadata": {},
     "output_type": "execute_result"
    }
   ],
   "source": [
    "data_m[0]['content']"
   ]
  },
  {
   "cell_type": "code",
   "execution_count": 13,
   "id": "c14f655b",
   "metadata": {},
   "outputs": [
    {
     "data": {
      "text/plain": [
       "1378"
      ]
     },
     "execution_count": 13,
     "metadata": {},
     "output_type": "execute_result"
    }
   ],
   "source": [
    "len(data_m)"
   ]
  },
  {
   "cell_type": "code",
   "execution_count": 14,
   "id": "96831c02",
   "metadata": {
    "scrolled": true
   },
   "outputs": [
    {
     "data": {
      "text/plain": [
       "110895"
      ]
     },
     "execution_count": 14,
     "metadata": {},
     "output_type": "execute_result"
    }
   ],
   "source": [
    "len(data_M)"
   ]
  },
  {
   "cell_type": "code",
   "execution_count": null,
   "id": "3f6b31d4",
   "metadata": {},
   "outputs": [],
   "source": []
  },
  {
   "cell_type": "code",
   "execution_count": 20,
   "id": "5be61459",
   "metadata": {},
   "outputs": [
    {
     "data": {
      "text/plain": [
       "{'kind': 'blogger#post',\n",
       " 'id': '3665579785497953424',\n",
       " 'blog': {'id': '7310156134283777261'},\n",
       " 'published': '2015-08-03T00:15:00+02:00',\n",
       " 'updated': '2015-08-03T00:19:21+02:00',\n",
       " 'url': 'http://feusurlequartiergeneral.blogspot.com/2015/08/ramuz-ecrivain-panique.html',\n",
       " 'selfLink': 'https://www.googleapis.com/blogger/v3/blogs/7310156134283777261/posts/3665579785497953424',\n",
       " 'title': 'Ramuz, écrivain panique.',\n",
       " 'content': '<div dir=\"ltr\" style=\"text-align: left;\" trbidi=\"on\">\\n<div class=\"separator\" style=\"clear: both; text-align: center;\">\\n<a href=\"http://3.bp.blogspot.com/-3fPEefVhR1I/Vb6WSAk_9pI/AAAAAAAAUCM/KIuQtW9sa28/s1600/R150127827.jpg\" imageanchor=\"1\" style=\"margin-left: 1em; margin-right: 1em;\"><img border=\"0\" height=\"640\" src=\"http://3.bp.blogspot.com/-3fPEefVhR1I/Vb6WSAk_9pI/AAAAAAAAUCM/KIuQtW9sa28/s640/R150127827.jpg\" width=\"403\" /></a></div>\\n<div style=\"text-align: justify;\">\\n<br />\\n<b>&nbsp;</b><i>paru sur Causeur.fr</i><br />\\n<br />\\n<b>En France, on ne lit pas Ramuz parce qu’on a Jean Giono. C’est \\ninjuste mais c’est comme ça: Giono est français, Ramuz est suisse. On a \\ntoujours tort, malgré tout, de se priver d’un grand écrivain. On \\nobjectera que Ramuz est depuis 2005 édité en Pléiade en deux volumes. \\nC’est parce que les autorités helvètes ont mis la main à la poche et, de\\n toute manière, la Pléiade n’est pas forcément la garantie de lecteurs \\nnouveaux: on ne découvre pas un écrivain en Pléiade, on le conserve. On \\nle conserve parce qu’on a aimé ses livres sous une autre forme avant et \\nque le papier bible nous fait gagner de la place et s’abime moins vite. \\nMais allez trouver les romans de Ramuz en poche… C’est pratiquement \\nmission impossible y compris pour son titre le plus connu: <i>La grande peur dans la montagne</i>.</b></div>\\n<b>\\n</b>\\n<div style=\"text-align: justify;\">\\n<b>Ramuz, Charles Ferdinand de son prénom, est né en 1878 à Lausanne et \\nmort à Pully en 1947. On voit qu’il ne fit que quelques kilomètres dans \\nsa vie. La Suisse lui a suffi, et dans la Suisse, le canton de Vaud. Les\\n grands écrivains n’ont pas forcément besoin de voyager. L’infini est \\nsur le pas de leur porte, il suffit de trouver l’angle et la lumière \\npour en donner toute la mesure. Ramuz, c’est l’anti-Cendrars, \\nl’anti-Morand, l’anti-Larbaud qui à la même époque voyagent beaucoup \\ndans les cargos, les steamers, les aéroplanes, les trains express aux «&nbsp;<i>bruits miraculeux&nbsp;</i>».</b></div>\\n<b>\\n</b>\\n<div style=\"text-align: justify;\">\\n<b>À part une période parisienne qu’il interrompt en 1914 parce que ce \\nqu’il sent venir l’horrifie, Ramuz n’aura pratiquement pas bougé du \\ncanton de Vaud. Il a eu raison. Rien n’est plus exotique que le canton \\nde Vaud pour peu que vous ayez un style pour le dire&nbsp;: ce qui compte, \\nc’est le prisme, pas le décor. Et le style de Ramuz rend étrange, épique\\n ou tragique ce qu’il y a de plus banal. Nous ne disons pas que le \\ncanton de Vaud est banal, nous ne voudrions pas nous attirer les foudres\\n de Roland Jaccard mais tout de même, le lecteur est toujours un \\npeu surpris en lisant <i>La grand peur dans la montagne</i> d’avoir \\nl’impression d’être dans un monde aussi brutal, primitif, plein de \\nsortilèges et de violences que chez Faulkner ou Giono. Mais on sait \\naussi, justement, que le Sud de Faulkner ou la Provence de Giono sont \\nlargement oniriques, fantasmatiques et que la précision avec laquelle \\nils nous sont rendus au travers de l’épaisseur des personnages, les \\ncouleurs inédites, la description d’une nature panique, c’est cette \\nfausse précision des rêves et des hallucinations psychotiques.</b></div>\\n<b>\\n</b>\\n<div style=\"text-align: justify;\">\\n<b><i>La grande peur dans la montagne</i> peut d’ailleurs être lu \\ncomme le roman d’une psychose si l’on veut rester cartésien ou comme un \\ntexte fantastique si on garde une âme d’enfant. Depuis \\nTodorov, il est clair que le fantastique, c’est précisément l’hésitation, \\nl’incertitude et que c’est de cette hésitation, de cette incertitude que \\nnaît notre malaise, voire notre angoisse. On a beaucoup de mal à \\ncomprendre ça, dans le fantastique contemporain où l’existence des \\nfantômes nous est donnée comme allant de soi dans les pénibles romans de\\n Marc Levy, par exemple.</b></div>\\n<b>\\n</b>\\n<div style=\"text-align: justify;\">\\n<b><i>La grande peur dans la montage</i>, qui refuse &nbsp;le temps et \\nl’espace, peut néanmoins par déduction être situé dans un village de \\nmontagne reculé dans les années vingt. C’est sûrement un village suisse \\ncar les personnages disent «&nbsp;septante&nbsp;» et qu’il n’y a pas de montagnes \\nen Belgique.</b></div>\\n<b>\\n</b>\\n<div style=\"text-align: justify;\">\\n<b>Là comme partout et de tout temps, les vieux s’opposent aux jeunes. \\nEn l’occurrence, à propos d’un pâturage. Ce pâturage, à 2300 mètres d\\'altitude, \\nreste inutilisé depuis vingt ans. Et ça ne plait pas au nouveau maire \\nqui est du parti des jeunes. Les vieux, eux, préfèrent laisser ce \\ncoin-là tranquille et tant pis pour les pertes engendrées pour la \\ncommune: il s’est passé là haut une tragédie. Une force mystérieuse a \\ndécimé les hommes qui y passaient les deux mois d’été à faire paître les\\n vaches et à fabriquer du lait. Par une belle majorité au conseil \\ngénéral qui est, si on a bien compris, la réunion de tous les habitants \\net pas seulement du conseil municipal, ce qui tendrait à prouver qu’un \\nvillage suisse des années vingt a un fonctionnement qui le rapproche \\ndavantage d’Athènes au Vème siècle que de Bruxelles au XXIème, il est \\ndonc décidé d’en finir avec les superstitions anciennes.&nbsp;</b></div>\\n<div style=\"text-align: justify;\">\\n<b>On monte une \\nexpédition pour réparer le chalet où sera fait le fromage et puis sept \\nvolontaires se rendent là haut. Ils ont des intentions diverses. Il y a un \\namoureux qui veut avoir de quoi épouser sa belle, un garçon très laid \\nqui veut trouver de l’or (chez Ramuz comme dans l’Antiquité, l’habit \\nfait le moine), un vieux qui était déjà là vingt ans plus tôt mais qui \\nse croit protégé par un verset biblique trempé trois fois dans l’eau \\nd’un lac.</b></div>\\n<b>\\n</b>\\n<div style=\"text-align: justify;\">\\n<b>À partir de ce moment, <i>La grande peur dans la montagne</i> prend l’allure de <i>Dix petits nègres</i>\\n dans les alpages. Les morts suspectes, les coups du sort se succèdent. A\\n chaque fois, le rationaliste veut trouver une explication rationnelle. \\nIl y arrive de moins en moins. Ramuz a remarquablement distillé la peur,\\n notamment dans la spatialisation du roman: en bas le village, en haut \\nl’alpage, au milieu un chemin compliqué entre forêts, torrents, \\nglaciers. Et toute la peur vient aussi de ce qu’il ne faut absolument pas \\nque le haut contamine le bas, et on parle ici de contamination au\\n sens propre puisque le bétail commence à crever.</b></div>\\n<b>\\n</b>\\n<div style=\"text-align: justify;\">\\n<b>On est étonné, à la fin, par la force&nbsp; tellurique de ce \\nbref roman. Même l’écriture de Ramuz, si critiquée en son temps pour son\\n mélange de trivialité réaliste, de répétitions bibliques et de syntaxe \\nhomérique, finit par séduire ou au moins par créer chez le lecteur qui \\nveut bien se laisser faire, cet envoûtement hypnotique qui est ce qu’on \\ndemande d’abord à la littérature.</b></div>\\n<b>\\n</b>\\n<div style=\"text-align: justify;\">\\n<br /></div>\\n<div style=\"text-align: justify;\">\\n<br /></div>\\n<div style=\"text-align: justify;\">\\n<br /></div>\\n<div style=\"text-align: justify;\">\\n<b><i>La Grande Peur dans la Montagne</i> de Charles Ferdinand Ramuz (<i>Livre de poche, édition 1972, 30 centimes, vide-grenier du quartier Tujac à Brive</i>)</b></div>\\n<br /></div>\\n',\n",
       " 'author': {'id': '12658941614607286284',\n",
       "  'displayName': 'Jérôme Leroy',\n",
       "  'url': 'https://www.blogger.com/profile/12658941614607286284',\n",
       "  'image': {'url': '//4.bp.blogspot.com/-tf7LQ9wnSZs/YD57ySG-O2I/AAAAAAAAbbk/1-DrKomoLoI6kkZZck_LtBYllwQJ4C7CgCK4BGAYYCw/s35/Je%252525CC%25252581ro%252525CC%25252582me_Leroy_%252525282018%25252529.jpg'}},\n",
       " 'replies': {'totalItems': '1',\n",
       "  'selfLink': 'https://www.googleapis.com/blogger/v3/blogs/7310156134283777261/posts/3665579785497953424/comments'},\n",
       " 'labels': ['mes vacances chez les bouquinistes', 'ramuz', 'suisse'],\n",
       " 'etag': '\"dGltZXN0YW1wOiAxNDM4NTUzOTYxMzc0Cm9mZnNldDogNzIwMDAwMAo\"',\n",
       " 'ext': ['\\n',\n",
       "  '\\n',\n",
       "  '\\n',\n",
       "  '\\n',\n",
       "  '\\n',\n",
       "  '\\xa0',\n",
       "  'paru sur Causeur.fr',\n",
       "  '\\n',\n",
       "  '\\n',\n",
       "  'En France, on ne lit pas Ramuz parce qu’on a Jean Giono. C’est \\ninjuste mais c’est comme ça: Giono est français, Ramuz est suisse. On a \\ntoujours tort, malgré tout, de se priver d’un grand écrivain. On \\nobjectera que Ramuz est depuis 2005 édité en Pléiade en deux volumes. \\nC’est parce que les autorités helvètes ont mis la main à la poche et, de\\n toute manière, la Pléiade n’est pas forcément la garantie de lecteurs \\nnouveaux: on ne découvre pas un écrivain en Pléiade, on le conserve. On \\nle conserve parce qu’on a aimé ses livres sous une autre forme avant et \\nque le papier bible nous fait gagner de la place et s’abime moins vite. \\nMais allez trouver les romans de Ramuz en poche… C’est pratiquement \\nmission impossible y compris pour son titre le plus connu: ',\n",
       "  'La grande peur dans la montagne',\n",
       "  '.',\n",
       "  '\\n',\n",
       "  '\\n',\n",
       "  '\\n',\n",
       "  '\\n',\n",
       "  'Ramuz, Charles Ferdinand de son prénom, est né en 1878 à Lausanne et \\nmort à Pully en 1947. On voit qu’il ne fit que quelques kilomètres dans \\nsa vie. La Suisse lui a suffi, et dans la Suisse, le canton de Vaud. Les\\n grands écrivains n’ont pas forcément besoin de voyager. L’infini est \\nsur le pas de leur porte, il suffit de trouver l’angle et la lumière \\npour en donner toute la mesure. Ramuz, c’est l’anti-Cendrars, \\nl’anti-Morand, l’anti-Larbaud qui à la même époque voyagent beaucoup \\ndans les cargos, les steamers, les aéroplanes, les trains express aux «\\xa0',\n",
       "  'bruits miraculeux\\xa0',\n",
       "  '».',\n",
       "  '\\n',\n",
       "  '\\n',\n",
       "  '\\n',\n",
       "  '\\n',\n",
       "  'À part une période parisienne qu’il interrompt en 1914 parce que ce \\nqu’il sent venir l’horrifie, Ramuz n’aura pratiquement pas bougé du \\ncanton de Vaud. Il a eu raison. Rien n’est plus exotique que le canton \\nde Vaud pour peu que vous ayez un style pour le dire\\xa0: ce qui compte, \\nc’est le prisme, pas le décor. Et le style de Ramuz rend étrange, épique\\n ou tragique ce qu’il y a de plus banal. Nous ne disons pas que le \\ncanton de Vaud est banal, nous ne voudrions pas nous attirer les foudres\\n de Roland Jaccard mais tout de même, le lecteur est toujours un \\npeu surpris en lisant ',\n",
       "  'La grand peur dans la montagne',\n",
       "  ' d’avoir \\nl’impression d’être dans un monde aussi brutal, primitif, plein de \\nsortilèges et de violences que chez Faulkner ou Giono. Mais on sait \\naussi, justement, que le Sud de Faulkner ou la Provence de Giono sont \\nlargement oniriques, fantasmatiques et que la précision avec laquelle \\nils nous sont rendus au travers de l’épaisseur des personnages, les \\ncouleurs inédites, la description d’une nature panique, c’est cette \\nfausse précision des rêves et des hallucinations psychotiques.',\n",
       "  '\\n',\n",
       "  '\\n',\n",
       "  '\\n',\n",
       "  '\\n',\n",
       "  'La grande peur dans la montagne',\n",
       "  ' peut d’ailleurs être lu \\ncomme le roman d’une psychose si l’on veut rester cartésien ou comme un \\ntexte fantastique si on garde une âme d’enfant. Depuis \\nTodorov, il est clair que le fantastique, c’est précisément l’hésitation, \\nl’incertitude et que c’est de cette hésitation, de cette incertitude que \\nnaît notre malaise, voire notre angoisse. On a beaucoup de mal à \\ncomprendre ça, dans le fantastique contemporain où l’existence des \\nfantômes nous est donnée comme allant de soi dans les pénibles romans de\\n Marc Levy, par exemple.',\n",
       "  '\\n',\n",
       "  '\\n',\n",
       "  '\\n',\n",
       "  '\\n',\n",
       "  'La grande peur dans la montage',\n",
       "  ', qui refuse \\xa0le temps et \\nl’espace, peut néanmoins par déduction être situé dans un village de \\nmontagne reculé dans les années vingt. C’est sûrement un village suisse \\ncar les personnages disent «\\xa0septante\\xa0» et qu’il n’y a pas de montagnes \\nen Belgique.',\n",
       "  '\\n',\n",
       "  '\\n',\n",
       "  '\\n',\n",
       "  '\\n',\n",
       "  \"Là comme partout et de tout temps, les vieux s’opposent aux jeunes. \\nEn l’occurrence, à propos d’un pâturage. Ce pâturage, à 2300 mètres d'altitude, \\nreste inutilisé depuis vingt ans. Et ça ne plait pas au nouveau maire \\nqui est du parti des jeunes. Les vieux, eux, préfèrent laisser ce \\ncoin-là tranquille et tant pis pour les pertes engendrées pour la \\ncommune: il s’est passé là haut une tragédie. Une force mystérieuse a \\ndécimé les hommes qui y passaient les deux mois d’été à faire paître les\\n vaches et à fabriquer du lait. Par une belle majorité au conseil \\ngénéral qui est, si on a bien compris, la réunion de tous les habitants \\net pas seulement du conseil municipal, ce qui tendrait à prouver qu’un \\nvillage suisse des années vingt a un fonctionnement qui le rapproche \\ndavantage d’Athènes au Vème siècle que de Bruxelles au XXIème, il est \\ndonc décidé d’en finir avec les superstitions anciennes.\\xa0\",\n",
       "  '\\n',\n",
       "  '\\n',\n",
       "  'On monte une \\nexpédition pour réparer le chalet où sera fait le fromage et puis sept \\nvolontaires se rendent là haut. Ils ont des intentions diverses. Il y a un \\namoureux qui veut avoir de quoi épouser sa belle, un garçon très laid \\nqui veut trouver de l’or (chez Ramuz comme dans l’Antiquité, l’habit \\nfait le moine), un vieux qui était déjà là vingt ans plus tôt mais qui \\nse croit protégé par un verset biblique trempé trois fois dans l’eau \\nd’un lac.',\n",
       "  '\\n',\n",
       "  '\\n',\n",
       "  '\\n',\n",
       "  '\\n',\n",
       "  'À partir de ce moment, ',\n",
       "  'La grande peur dans la montagne',\n",
       "  ' prend l’allure de ',\n",
       "  'Dix petits nègres',\n",
       "  '\\n dans les alpages. Les morts suspectes, les coups du sort se succèdent. A\\n chaque fois, le rationaliste veut trouver une explication rationnelle. \\nIl y arrive de moins en moins. Ramuz a remarquablement distillé la peur,\\n notamment dans la spatialisation du roman: en bas le village, en haut \\nl’alpage, au milieu un chemin compliqué entre forêts, torrents, \\nglaciers. Et toute la peur vient aussi de ce qu’il ne faut absolument pas \\nque le haut contamine le bas, et on parle ici de contamination au\\n sens propre puisque le bétail commence à crever.',\n",
       "  '\\n',\n",
       "  '\\n',\n",
       "  '\\n',\n",
       "  '\\n',\n",
       "  'On est étonné, à la fin, par la force\\xa0 tellurique de ce \\nbref roman. Même l’écriture de Ramuz, si critiquée en son temps pour son\\n mélange de trivialité réaliste, de répétitions bibliques et de syntaxe \\nhomérique, finit par séduire ou au moins par créer chez le lecteur qui \\nveut bien se laisser faire, cet envoûtement hypnotique qui est ce qu’on \\ndemande d’abord à la littérature.',\n",
       "  '\\n',\n",
       "  '\\n',\n",
       "  '\\n',\n",
       "  '\\n',\n",
       "  '\\n',\n",
       "  '\\n',\n",
       "  '\\n',\n",
       "  '\\n',\n",
       "  '\\n',\n",
       "  '\\n',\n",
       "  'La Grande Peur dans la Montagne',\n",
       "  ' de Charles Ferdinand Ramuz (',\n",
       "  'Livre de poche, édition 1972, 30 centimes, vide-grenier du quartier Tujac à Brive',\n",
       "  ')',\n",
       "  '\\n',\n",
       "  '\\n']}"
      ]
     },
     "execution_count": 20,
     "metadata": {},
     "output_type": "execute_result"
    }
   ],
   "source": [
    "data_M[95873]"
   ]
  },
  {
   "cell_type": "code",
   "execution_count": null,
   "id": "23fbfacf",
   "metadata": {},
   "outputs": [],
   "source": []
  },
  {
   "cell_type": "code",
   "execution_count": null,
   "id": "20124e40",
   "metadata": {},
   "outputs": [],
   "source": [
    "z = ''\n",
    "list_clean_content = []\n",
    "\n",
    "for j in range(len(data_M)) :\n",
    "    index = data_M[j]['content']\n",
    "    #index1 = \"Auteur : \" , data_M[0]['author']['displayName'], \"\\n\"\n",
    "    soup = BeautifulSoup(index.replace(\"<br />\", \"\\n\"))\n",
    "    z = data_M[j]['author']['displayName'], \"\\n\" , soup.get_text().replace(\"\\xa0\", \" \")\n",
    "    list_clean_content.append(z)"
   ]
  },
  {
   "cell_type": "code",
   "execution_count": null,
   "id": "0a56cce7",
   "metadata": {},
   "outputs": [],
   "source": [
    "len(list_clean_content)"
   ]
  },
  {
   "cell_type": "code",
   "execution_count": null,
   "id": "2cb8dc78",
   "metadata": {},
   "outputs": [],
   "source": [
    "list_clean_content[0]"
   ]
  },
  {
   "cell_type": "code",
   "execution_count": null,
   "id": "fd9efcd8",
   "metadata": {},
   "outputs": [],
   "source": [
    "list_clean_content[1377]"
   ]
  },
  {
   "cell_type": "code",
   "execution_count": null,
   "id": "af09d144",
   "metadata": {},
   "outputs": [],
   "source": [
    "with open(os.path.join('posts_maior_propre.json'), 'w', encoding = 'UTF-8') as fin_M2 :\n",
    "    json.dump( list_clean_content, fin_M2)"
   ]
  },
  {
   "cell_type": "code",
   "execution_count": null,
   "id": "cf53ca21",
   "metadata": {},
   "outputs": [],
   "source": [
    "import pandas as pd\n",
    "df = pd.read_json (r\"posts_maior_propre.json\")\n",
    "df.to_csv (r\"post_contents.txt\", index = False)"
   ]
  }
 ],
 "metadata": {
  "kernelspec": {
   "display_name": "Python 3 (ipykernel)",
   "language": "python",
   "name": "python3"
  },
  "language_info": {
   "codemirror_mode": {
    "name": "ipython",
    "version": 3
   },
   "file_extension": ".py",
   "mimetype": "text/x-python",
   "name": "python",
   "nbconvert_exporter": "python",
   "pygments_lexer": "ipython3",
   "version": "3.10.8"
  }
 },
 "nbformat": 4,
 "nbformat_minor": 5
}
